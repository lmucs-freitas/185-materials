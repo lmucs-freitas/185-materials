{
 "cells": [
  {
   "cell_type": "markdown",
   "metadata": {},
   "source": [
    "### Solutions from lab time\n",
    "**1)** Write a function called `is_sorted` that takes a list as an argument and returns True if the list is sorted in ascending order and False otherwise. For example:\n",
    "\n",
    "- `is_sorted([1, 2, 2])` returns `True`\n",
    "- `is_sorted(['b', 'a'])` returns `False`"
   ]
  },
  {
   "cell_type": "code",
   "execution_count": null,
   "metadata": {},
   "outputs": [],
   "source": [
    "def is_sorted(some_list):\n",
    "    sorted_copy = some_list[:]\n",
    "    sorted_copy.sort()\n",
    "    return some_list == sorted_copy"
   ]
  },
  {
   "cell_type": "markdown",
   "metadata": {},
   "source": [
    "[Python Tutor](http://pythontutor.com/visualize.html#code=some_list%20%3D%20%5B5,1,3,0,6%5D%0Acopy%20%3D%20some_list%0Acopy.append%282%29%0Asorted_copy%20%3D%20some_list%5B%3A%5D%0Asorted_copy.sort%28%29%0Aprint%28some_list%20%3D%3D%20sorted_copy%29&cumulative=false&curInstr=6&heapPrimitives=nevernest&mode=display&origin=opt-frontend.js&py=3&rawInputLstJSON=%5B%5D&textReferences=false) demo of why we have to make a copy this way.\n",
    "\n",
    "Here are some test cases:"
   ]
  },
  {
   "cell_type": "code",
   "execution_count": null,
   "metadata": {},
   "outputs": [],
   "source": [
    "is_sorted([1, 2, 2]) #should return True"
   ]
  },
  {
   "cell_type": "code",
   "execution_count": null,
   "metadata": {},
   "outputs": [],
   "source": [
    "is_sorted(['b', 'a']) #should return False"
   ]
  },
  {
   "cell_type": "markdown",
   "metadata": {},
   "source": [
    "**2)** Write a function named `has_duplicates` that takes a list as a parameter and returns `True` if there is any element that appears more than once in the list."
   ]
  },
  {
   "cell_type": "code",
   "execution_count": null,
   "metadata": {},
   "outputs": [],
   "source": [
    "def has_duplicates(some_list):\n",
    "    seen = []\n",
    "    for element in some_list:\n",
    "        if element in seen:\n",
    "            return True\n",
    "        seen.append(element)\n",
    "    return False"
   ]
  },
  {
   "cell_type": "markdown",
   "metadata": {},
   "source": [
    "Here are some test cases:"
   ]
  },
  {
   "cell_type": "code",
   "execution_count": null,
   "metadata": {},
   "outputs": [],
   "source": [
    "has_duplicates([1, 2, 2]) #True"
   ]
  },
  {
   "cell_type": "code",
   "execution_count": null,
   "metadata": {},
   "outputs": [],
   "source": [
    "has_duplicates(['b', 'a']) #False"
   ]
  },
  {
   "cell_type": "markdown",
   "metadata": {},
   "source": [
    "**Part 3:** This part pertains to the so-called Birthday Paradox, which you can read about at http://en.wikipedia.org/wiki/Birthday_paradox.\n",
    "\n",
    "If there are 23 students in your class, what are the chances that two of you have the same birthday? You can estimate this probability by generating random samples of 23 birthdays and checking for matches. Hint: you can generate random birthdays with the `randint` function in the `random` module.\n",
    "\n",
    "Try it yourself, or you can download the author's solution from http://thinkpython2.com/code/birthday.py."
   ]
  },
  {
   "cell_type": "code",
   "execution_count": null,
   "metadata": {},
   "outputs": [],
   "source": [
    "..."
   ]
  },
  {
   "cell_type": "markdown",
   "metadata": {},
   "source": [
    "## Dictionaries\n",
    "Examples from [Think Python Chapter 11](http://greenteapress.com/thinkpython2/html/thinkpython2012.html)"
   ]
  },
  {
   "cell_type": "code",
   "execution_count": null,
   "metadata": {},
   "outputs": [],
   "source": [
    "eng2sp = dict()\n",
    "eng2sp"
   ]
  },
  {
   "cell_type": "code",
   "execution_count": null,
   "metadata": {},
   "outputs": [],
   "source": [
    "sp2eng = {}\n",
    "sp2eng"
   ]
  },
  {
   "cell_type": "code",
   "execution_count": null,
   "metadata": {},
   "outputs": [],
   "source": [
    "eng2sp['one'] = 'uno'\n",
    "eng2sp"
   ]
  },
  {
   "cell_type": "code",
   "execution_count": null,
   "metadata": {},
   "outputs": [],
   "source": [
    "eng2sp = {'one': 'uno', 'two': 'dos', 'three': 'tres'}"
   ]
  },
  {
   "cell_type": "code",
   "execution_count": null,
   "metadata": {},
   "outputs": [],
   "source": [
    "eng2sp"
   ]
  },
  {
   "cell_type": "code",
   "execution_count": null,
   "metadata": {},
   "outputs": [],
   "source": [
    "eng2sp['two']"
   ]
  },
  {
   "cell_type": "code",
   "execution_count": null,
   "metadata": {},
   "outputs": [],
   "source": [
    "eng2sp['four']"
   ]
  },
  {
   "cell_type": "code",
   "execution_count": null,
   "metadata": {},
   "outputs": [],
   "source": [
    "p = ['zero','um', 'dois', 'três', 'quatro']"
   ]
  },
  {
   "cell_type": "code",
   "execution_count": null,
   "metadata": {},
   "outputs": [],
   "source": [
    "print(p[2],p[4])"
   ]
  },
  {
   "cell_type": "code",
   "execution_count": null,
   "metadata": {},
   "outputs": [],
   "source": [
    "'one' in eng2sp"
   ]
  },
  {
   "cell_type": "code",
   "execution_count": null,
   "metadata": {},
   "outputs": [],
   "source": [
    "'uno' in eng2sp"
   ]
  },
  {
   "cell_type": "code",
   "execution_count": null,
   "metadata": {},
   "outputs": [],
   "source": [
    "vals = eng2sp.values()\n",
    "'uno' in vals"
   ]
  },
  {
   "cell_type": "code",
   "execution_count": null,
   "metadata": {},
   "outputs": [],
   "source": [
    "vals"
   ]
  },
  {
   "cell_type": "code",
   "execution_count": null,
   "metadata": {},
   "outputs": [],
   "source": [
    "'dos' in eng2sp.values()"
   ]
  },
  {
   "cell_type": "code",
   "execution_count": null,
   "metadata": {},
   "outputs": [],
   "source": [
    "def histogram(s):\n",
    "    \"\"\"Creates a histogram of characters in a string\n",
    "    A histogram is a collection of counters or frequencies\"\"\"\n",
    "    d = dict()\n",
    "    for c in s:        # c for character, s for string\n",
    "        if c not in d: # if c is not already a key in the dictionary\n",
    "            d[c] = 1\n",
    "        else:\n",
    "            d[c] += 1\n",
    "    return d"
   ]
  },
  {
   "cell_type": "code",
   "execution_count": null,
   "metadata": {},
   "outputs": [],
   "source": [
    "histogram(\"mississippi\")"
   ]
  },
  {
   "cell_type": "markdown",
   "metadata": {},
   "source": [
    "[Python Tutor](http://pythontutor.com/visualize.html#code=def%20histogram%28s%29%3A%0A%20%20%20%20%22%22%22Creates%20a%20histogram%20of%20characters%20in%20a%20string%0A%20%20%20%20A%20histogram%20is%20a%20collection%20of%20counters%20or%20frequencies%22%22%22%0A%20%20%20%20d%20%3D%20dict%28%29%0A%20%20%20%20for%20c%20in%20s%3A%20%20%20%20%20%20%20%20%23%20c%20for%20character,%20s%20for%20string%0A%20%20%20%20%20%20%20%20if%20c%20not%20in%20d%3A%20%23%20if%20c%20is%20not%20already%20a%20key%20in%20the%20dictionary%0A%20%20%20%20%20%20%20%20%20%20%20%20d%5Bc%5D%20%3D%201%0A%20%20%20%20%20%20%20%20else%3A%0A%20%20%20%20%20%20%20%20%20%20%20%20d%5Bc%5D%20%2B%3D%201%0A%20%20%20%20return%20d%0A%20%20%20%20%0Ahistogram%28%22mississippi%22%29&cumulative=false&curInstr=0&heapPrimitives=nevernest&mode=display&origin=opt-frontend.js&py=3&rawInputLstJSON=%5B%5D&textReferences=false)"
   ]
  },
  {
   "cell_type": "markdown",
   "metadata": {},
   "source": [
    "***\n",
    "`get(key, default)` **method**"
   ]
  },
  {
   "cell_type": "code",
   "execution_count": null,
   "metadata": {},
   "outputs": [],
   "source": [
    "h = histogram('brontosaurus')\n",
    "h"
   ]
  },
  {
   "cell_type": "code",
   "execution_count": null,
   "metadata": {},
   "outputs": [],
   "source": [
    "h.get('a',0)"
   ]
  },
  {
   "cell_type": "code",
   "execution_count": null,
   "metadata": {},
   "outputs": [],
   "source": [
    "h.get('b',0)"
   ]
  },
  {
   "cell_type": "code",
   "execution_count": null,
   "metadata": {},
   "outputs": [],
   "source": [
    "h.get('c',0)"
   ]
  },
  {
   "cell_type": "code",
   "execution_count": null,
   "metadata": {},
   "outputs": [],
   "source": [
    "h.get('d',0)"
   ]
  },
  {
   "cell_type": "markdown",
   "metadata": {},
   "source": [
    "**Iterating** through a dictionary"
   ]
  },
  {
   "cell_type": "code",
   "execution_count": null,
   "metadata": {},
   "outputs": [],
   "source": [
    "def print_hist(h):\n",
    "    for c in h:\n",
    "        print(c, h[c])"
   ]
  },
  {
   "cell_type": "code",
   "execution_count": null,
   "metadata": {},
   "outputs": [],
   "source": [
    "h = histogram('parrot')\n",
    "print_hist(h)"
   ]
  },
  {
   "cell_type": "code",
   "execution_count": null,
   "metadata": {},
   "outputs": [],
   "source": [
    "for key in sorted(h):\n",
    "    print(key, h[key])"
   ]
  },
  {
   "cell_type": "code",
   "execution_count": null,
   "metadata": {},
   "outputs": [],
   "source": [
    "def letterCounts(s):\n",
    "    hist = histogram(s)\n",
    "    \n",
    "    for c in 'abcdefghijklmnopqrstuvwxy':\n",
    "        print(c, hist.get(c, 0))"
   ]
  },
  {
   "cell_type": "code",
   "execution_count": null,
   "metadata": {},
   "outputs": [],
   "source": [
    "letterCounts('supercalifragilisticexpialidocious') "
   ]
  },
  {
   "cell_type": "markdown",
   "metadata": {},
   "source": [
    "_How can we update this function to also print the total letter count of the given string `s`?_"
   ]
  },
  {
   "cell_type": "code",
   "execution_count": null,
   "metadata": {},
   "outputs": [],
   "source": [
    "..."
   ]
  },
  {
   "cell_type": "markdown",
   "metadata": {},
   "source": [
    "***\n",
    "**Reverse lookup**"
   ]
  },
  {
   "cell_type": "code",
   "execution_count": null,
   "metadata": {},
   "outputs": [],
   "source": [
    "def reverse_lookup(d, v):\n",
    "    for k in d:\n",
    "        if d[k] == v:\n",
    "            return k\n",
    "    raise LookupError()"
   ]
  },
  {
   "cell_type": "code",
   "execution_count": null,
   "metadata": {},
   "outputs": [],
   "source": [
    "k = reverse_lookup(h, 2)\n",
    "k"
   ]
  },
  {
   "cell_type": "code",
   "execution_count": null,
   "metadata": {},
   "outputs": [],
   "source": [
    "k = reverse_lookup(h, 3)\n",
    "k"
   ]
  },
  {
   "cell_type": "code",
   "execution_count": null,
   "metadata": {},
   "outputs": [],
   "source": [
    "try:\n",
    "    k = reverse_lookup(h, 2)\n",
    "except LookupError:\n",
    "    print(\"No key found for given value.\")"
   ]
  },
  {
   "cell_type": "markdown",
   "metadata": {},
   "source": [
    "**Invert** a dictionary"
   ]
  },
  {
   "cell_type": "code",
   "execution_count": null,
   "metadata": {},
   "outputs": [],
   "source": [
    "def invert_dict(d):\n",
    "    inverse = dict()\n",
    "    for key in d:\n",
    "        val = d[key]\n",
    "        if val not in inverse:\n",
    "            inverse[val] = [key] # switch key and val, new value is a list\n",
    "        else:\n",
    "            inverse[val].append(key) \n",
    "    return inverse"
   ]
  },
  {
   "cell_type": "code",
   "execution_count": null,
   "metadata": {},
   "outputs": [],
   "source": [
    "hist = histogram('parrot')\n",
    "hist"
   ]
  },
  {
   "cell_type": "code",
   "execution_count": null,
   "metadata": {},
   "outputs": [],
   "source": [
    "inverse = invert_dict(hist)\n",
    "inverse"
   ]
  },
  {
   "cell_type": "markdown",
   "metadata": {},
   "source": [
    "[Python Tutor](http://pythontutor.com/visualize.html#code=def%20invert_dict%28d%29%3A%0A%20%20%20%20inverse%20%3D%20dict%28%29%0A%20%20%20%20for%20key%20in%20d%3A%0A%20%20%20%20%20%20%20%20val%20%3D%20d%5Bkey%5D%0A%20%20%20%20%20%20%20%20if%20val%20not%20in%20inverse%3A%0A%20%20%20%20%20%20%20%20%20%20%20%20inverse%5Bval%5D%20%3D%20%5Bkey%5D%20%23%20switch%20key%20and%20val,%20new%20value%20is%20a%20list%0A%20%20%20%20%20%20%20%20else%3A%0A%20%20%20%20%20%20%20%20%20%20%20%20inverse%5Bval%5D.append%28key%29%20%0A%20%20%20%20return%20inverse%0A%20%20%20%20%0Ahist%20%3D%20%7B'p'%3A%201,%20'a'%3A%201,%20'r'%3A%202,%20'o'%3A%201,%20't'%3A%201%7D%0A%0Ainverse%20%3D%20invert_dict%28hist%29&cumulative=false&curInstr=27&heapPrimitives=nevernest&mode=display&origin=opt-frontend.js&py=3&rawInputLstJSON=%5B%5D&textReferences=false)"
   ]
  },
  {
   "cell_type": "markdown",
   "metadata": {},
   "source": [
    "***\n",
    "**Lab Time**\n",
    "\n",
    "Write a function called `firstLetters` that accepts a string and returns a dictionary that maps the first letter of each word in the string with a list of words from the string starting with that letter. **Optional bonus challenge:** how would you update your solution to map words to their first letter regardless of whether the word is capitalized?\n"
   ]
  },
  {
   "cell_type": "code",
   "execution_count": null,
   "metadata": {},
   "outputs": [],
   "source": [
    "..."
   ]
  },
  {
   "cell_type": "markdown",
   "metadata": {},
   "source": [
    "Here is one test case. Try a few more."
   ]
  },
  {
   "cell_type": "code",
   "execution_count": null,
   "metadata": {},
   "outputs": [],
   "source": [
    "# Should return {'t': ['today', 'thursday'], 'i':['is']}\n",
    "firstLetters(\"today is thursday\")"
   ]
  },
  {
   "cell_type": "code",
   "execution_count": null,
   "metadata": {},
   "outputs": [],
   "source": [
    "..."
   ]
  },
  {
   "cell_type": "code",
   "execution_count": null,
   "metadata": {},
   "outputs": [],
   "source": [
    "# For the optional bonus challenge\n",
    "# Should return {'t': ['today', 'Thursday'], 'i':['is']}\n",
    "firstLetters(\"today is Thursday\")"
   ]
  }
 ],
 "metadata": {
  "kernelspec": {
   "display_name": "Python 3",
   "language": "python",
   "name": "python3"
  },
  "language_info": {
   "codemirror_mode": {
    "name": "ipython",
    "version": 3
   },
   "file_extension": ".py",
   "mimetype": "text/x-python",
   "name": "python",
   "nbconvert_exporter": "python",
   "pygments_lexer": "ipython3",
   "version": "3.6.8"
  }
 },
 "nbformat": 4,
 "nbformat_minor": 2
}
