{
 "cells": [
  {
   "cell_type": "markdown",
   "metadata": {},
   "source": [
    "### Environment diagrams"
   ]
  },
  {
   "cell_type": "code",
   "execution_count": null,
   "metadata": {},
   "outputs": [],
   "source": [
    "from math import pi\n",
    "tau = 2 * pi"
   ]
  },
  {
   "cell_type": "markdown",
   "metadata": {},
   "source": [
    "[Python Tutor](http://composingprograms.com/tutor.html#code=from+math+import+pi%0Atau+%3D+2+*+pi)\n",
    "***"
   ]
  },
  {
   "cell_type": "code",
   "execution_count": null,
   "metadata": {},
   "outputs": [],
   "source": [
    "from operator import mul\n",
    "\n",
    "def square(x):\n",
    "    return mul(x, x)"
   ]
  },
  {
   "cell_type": "markdown",
   "metadata": {},
   "source": [
    "[Python Tutor](http://composingprograms.com/tutor.html#code=from+operator+import+mul%0Adef+square(x)%3A%0A++++return+mul(x,+x))\n",
    "***"
   ]
  },
  {
   "cell_type": "code",
   "execution_count": null,
   "metadata": {},
   "outputs": [],
   "source": [
    "def print_twice(iggy):\n",
    "    print(iggy)\n",
    "    print(iggy)\n",
    "\n",
    "def cat_twice(part1, part2):\n",
    "    cat = part1 + part2\n",
    "    print_twice(cat)\n",
    "\n",
    "line1 = \"I know it is wet and the sun is not sunny, \"\n",
    "line2 = \"but we can have lots of good fun that is funny.\"\n",
    "\n",
    "cat_twice(line1, line2)"
   ]
  },
  {
   "cell_type": "markdown",
   "metadata": {},
   "source": [
    "[Python Tutor](http://pythontutor.com/composingprograms.html#code=def%20print_twice%28iggy%29%3A%0A%20%20%20%20print%28iggy%29%0A%20%20%20%20print%28iggy%29%0A%0Adef%20cat_twice%28part1,%20part2%29%3A%0A%20%20%20%20cat%20%3D%20part1%20%2B%20part2%0A%20%20%20%20print_twice%28cat%29%0A%0Aline1%20%3D%20%22I%20know%20it%20is%20wet%20and%20the%20sun%20is%20not%20sunny,%20%22%0Aline2%20%3D%20%22but%20we%20can%20have%20lots%20of%20good%20fun%20that%20is%20funny.%22%0A%0Acat_twice%28line1,%20line2%29&cumulative=true&curInstr=0&mode=display&origin=composingprograms.js&py=3&rawInputLstJSON=%5B%5D)"
   ]
  },
  {
   "cell_type": "markdown",
   "metadata": {},
   "source": [
    "***\n",
    "\n",
    "### Recursive functions call themselves\n",
    "\n",
    "Examples are from [Composing Programs 1.7](http://composingprograms.com/pages/17-recursive-functions.html).\n"
   ]
  },
  {
   "cell_type": "markdown",
   "metadata": {},
   "source": [
    "\n",
    "**Example 1: Sum digits**"
   ]
  },
  {
   "cell_type": "code",
   "execution_count": null,
   "metadata": {},
   "outputs": [],
   "source": [
    "# get the last digit\n",
    "12345678"
   ]
  },
  {
   "cell_type": "code",
   "execution_count": null,
   "metadata": {},
   "outputs": [],
   "source": [
    "# get all but the last digit\n",
    "12345678"
   ]
  },
  {
   "cell_type": "code",
   "execution_count": null,
   "metadata": {},
   "outputs": [],
   "source": [
    "def sum_digits(n):\n",
    "    \"\"\"Return the sum of the digits of positive integer n.\"\"\"\n",
    "    \n",
    "    if n < 10:\n",
    "        return n\n",
    "    else:\n",
    "        all_but_last = ... \n",
    "        last = ...\n",
    "        return sum_digits(all_but_last) + last"
   ]
  },
  {
   "cell_type": "code",
   "execution_count": null,
   "metadata": {},
   "outputs": [],
   "source": [
    "sum_digits(4)"
   ]
  },
  {
   "cell_type": "code",
   "execution_count": null,
   "metadata": {},
   "outputs": [],
   "source": [
    "sum_digits(18117)"
   ]
  },
  {
   "cell_type": "code",
   "execution_count": null,
   "metadata": {},
   "outputs": [],
   "source": [
    "sum_digits(9437184)"
   ]
  },
  {
   "cell_type": "code",
   "execution_count": null,
   "metadata": {},
   "outputs": [],
   "source": [
    "sum_digits(985430290987654312345670987652345987123456709874)"
   ]
  },
  {
   "cell_type": "markdown",
   "metadata": {},
   "source": [
    "***\n",
    "**Example 2: Factorials**\n",
    "\n",
    "A factorial is is the product of all the integers from 1 to some number. For example the factorial of 4, denoted `4!`, is 1\\*2\\*3\\*4 = 24"
   ]
  },
  {
   "cell_type": "code",
   "execution_count": null,
   "metadata": {},
   "outputs": [],
   "source": [
    "def factorial(n):\n",
    "    \"\"\"Calculate the factorial of an integer x\"\"\"\n",
    "\n",
    "    if n == 1:\n",
    "        return ...\n",
    "    else:\n",
    "        return ..."
   ]
  },
  {
   "cell_type": "code",
   "execution_count": null,
   "metadata": {},
   "outputs": [],
   "source": [
    "factorial(4)"
   ]
  },
  {
   "cell_type": "markdown",
   "metadata": {},
   "source": [
    "<img src=\"https://ih1.redbubble.net/image.460299119.9649/st%2Csmall%2C215x235-pad%2C210x230%2Cf8f8f8.u1.jpg\">"
   ]
  },
  {
   "cell_type": "markdown",
   "metadata": {},
   "source": [
    "***\n",
    "### Lab time:\n",
    "\n",
    "The [Fibbonacci sequence](https://en.wikipedia.org/wiki/Fibonacci_number) follows the rule: \n",
    "\n",
    "$F_{0} = 0$\n",
    "\n",
    "$F_{1} = 1$\n",
    "\n",
    "...\n",
    "\n",
    "$F_{n} = F_{n-1} + F_{n-2}$ \n",
    "\n",
    "So the sequence goes: 0, 1, 1, 2, 3, 5, 8, 13, 21, 34, 55, and so on...\n",
    "\n",
    "**Part 1:** Write a recursive function that accepts $n$ as an argument and returns the value of $F_{n}$."
   ]
  },
  {
   "cell_type": "code",
   "execution_count": null,
   "metadata": {},
   "outputs": [],
   "source": [
    "def fib(n):\n",
    "    \"\"\"Returns the F_n term in the Fibonacci sequence\"\"\"\n",
    "    ...\n",
    "\n",
    "fib(6)"
   ]
  },
  {
   "cell_type": "markdown",
   "metadata": {},
   "source": [
    "**Part 2:** Write a `for` loop to print the sequence from $0$ to $F_{n}$."
   ]
  },
  {
   "cell_type": "code",
   "execution_count": null,
   "metadata": {},
   "outputs": [],
   "source": [
    "n = int(input(\"Number of Fibonacci terms to print: \"))\n",
    "\n",
    "for i in range(n):\n",
    "    ..."
   ]
  },
  {
   "cell_type": "markdown",
   "metadata": {},
   "source": [
    "<img src=\"https://imgs.xkcd.com/comics/fixing_problems.png\">\n",
    "<center>https://xkcd.com/1739/</center>"
   ]
  }
 ],
 "metadata": {
  "kernelspec": {
   "display_name": "Python 3",
   "language": "python",
   "name": "python3"
  },
  "language_info": {
   "codemirror_mode": {
    "name": "ipython",
    "version": 3
   },
   "file_extension": ".py",
   "mimetype": "text/x-python",
   "name": "python",
   "nbconvert_exporter": "python",
   "pygments_lexer": "ipython3",
   "version": "3.6.8"
  }
 },
 "nbformat": 4,
 "nbformat_minor": 2
}
