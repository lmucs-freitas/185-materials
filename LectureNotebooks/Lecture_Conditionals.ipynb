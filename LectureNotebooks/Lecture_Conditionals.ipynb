{
 "cells": [
  {
   "cell_type": "markdown",
   "metadata": {},
   "source": [
    "## Boolean expressions\n",
    "\n",
    "Boolean expressions can include the relational operators `==`,`!=`, `<`,`>`,`>=`,`=<`, along with the logical operators `and`, `or`, `is`, `in` and `not`."
   ]
  },
  {
   "cell_type": "code",
   "execution_count": null,
   "metadata": {},
   "outputs": [],
   "source": [
    "a = 'drawer'\n",
    "b = 'drawer'\n",
    "\n",
    "a == b"
   ]
  },
  {
   "cell_type": "code",
   "execution_count": null,
   "metadata": {},
   "outputs": [],
   "source": [
    "a is b"
   ]
  },
  {
   "cell_type": "code",
   "execution_count": null,
   "metadata": {},
   "outputs": [],
   "source": [
    "c = set([\"diaper\", \"repaid\"])\n",
    "d = set([\"diaper\", \"repaid\"])\n",
    "\n",
    "print(c)\n",
    "print(d)"
   ]
  },
  {
   "cell_type": "code",
   "execution_count": null,
   "metadata": {},
   "outputs": [],
   "source": [
    "c == d"
   ]
  },
  {
   "cell_type": "code",
   "execution_count": null,
   "metadata": {},
   "outputs": [],
   "source": [
    "a is b"
   ]
  },
  {
   "cell_type": "code",
   "execution_count": null,
   "metadata": {},
   "outputs": [],
   "source": [
    "# Read this code and then try it out in PythonTutor\n",
    "# to see what's happening here\n",
    "\n",
    "a = 'drawer'\n",
    "b = 'drawer'\n",
    "c = set([\"diaper\", \"repaid\"])\n",
    "d = set([\"diaper\", \"repaid\"])\n",
    "e = c\n",
    "\n",
    "a_is_b = a is b\n",
    "c_is_d = c is d\n",
    "c_is_e = c is e\n",
    "\n",
    "c.add(\"reward\")\n",
    "e"
   ]
  },
  {
   "cell_type": "markdown",
   "metadata": {},
   "source": [
    "[Click here](http://pythontutor.com/visualize.html#code=a%20%3D%20'drawer'%0Ab%20%3D%20'drawer'%0Ac%20%3D%20set%28%5B%22diaper%22,%20%22repaid%22%5D%29%0Ad%20%3D%20set%28%5B%22diaper%22,%20%22repaid%22%5D%29%0Ae%20%3D%20c%0A%0Aa_is_b%20%3D%20a%20is%20b%0Ac_is_d%20%3D%20c%20is%20d%0Ac_is_e%20%3D%20c%20is%20e%0A%0Ac.add%28%22reward%22%29%0Aprint%28e%29&cumulative=false&curInstr=0&heapPrimitives=nevernest&mode=display&origin=opt-frontend.js&py=3&rawInputLstJSON=%5B%5D&textReferences=false) to see in PythonTutor."
   ]
  },
  {
   "cell_type": "code",
   "execution_count": null,
   "metadata": {},
   "outputs": [],
   "source": [
    "\"orange\" in \"orange juice\""
   ]
  },
  {
   "cell_type": "code",
   "execution_count": null,
   "metadata": {},
   "outputs": [],
   "source": [
    "\"apple\" != \"orange\""
   ]
  },
  {
   "cell_type": "code",
   "execution_count": null,
   "metadata": {},
   "outputs": [],
   "source": [
    "koala = \"koala\"\n",
    "koala == \"koala\""
   ]
  },
  {
   "cell_type": "code",
   "execution_count": null,
   "metadata": {},
   "outputs": [],
   "source": [
    "\"diaper\" in d"
   ]
  },
  {
   "cell_type": "code",
   "execution_count": null,
   "metadata": {},
   "outputs": [],
   "source": [
    "3 in 234"
   ]
  },
  {
   "cell_type": "code",
   "execution_count": null,
   "metadata": {},
   "outputs": [],
   "source": [
    "True and False"
   ]
  },
  {
   "cell_type": "code",
   "execution_count": null,
   "metadata": {},
   "outputs": [],
   "source": [
    "False or not True"
   ]
  },
  {
   "cell_type": "code",
   "execution_count": null,
   "metadata": {},
   "outputs": [],
   "source": [
    "not False"
   ]
  },
  {
   "cell_type": "code",
   "execution_count": null,
   "metadata": {},
   "outputs": [],
   "source": [
    "2 > 4 and 0 <= -0"
   ]
  },
  {
   "cell_type": "code",
   "execution_count": null,
   "metadata": {},
   "outputs": [],
   "source": [
    "2 > 4 and 0 == -0 or 144%3==0"
   ]
  },
  {
   "cell_type": "markdown",
   "metadata": {},
   "source": [
    "***\n",
    "## Conditionals\n",
    "\n",
    "A conditional statement in Python consists of a series of *headers* and *suites*: a required `if` clause, an optional sequence of `elif` clauses, and finally an optional `else` clause:\n",
    "\n",
    "`if <boolean expression>:\n",
    "    <suite>\n",
    "elif <boolean expression>:\n",
    "    <suite>\n",
    "else:\n",
    "    <suite>`\n",
    "    \n",
    "The boolean expressions in the above if and elif statements are also called called *boolean contexts*."
   ]
  },
  {
   "cell_type": "code",
   "execution_count": null,
   "metadata": {},
   "outputs": [],
   "source": [
    "age = int(input('How old are you? '))\n",
    "\n",
    "prompt = \"have you had a birthday this year? [y/n] \\n\"\n",
    "bday_yet = input(prompt)"
   ]
  },
  {
   "cell_type": "markdown",
   "metadata": {},
   "source": [
    "Now that we have some information, we can respond accordingly."
   ]
  },
  {
   "cell_type": "code",
   "execution_count": null,
   "metadata": {},
   "outputs": [],
   "source": [
    "if int(age) >= 0:\n",
    "    if bday_yet == 'y':\n",
    "        print(\"You must have been born in \", 2020 - int(age))\n",
    "    elif bday_yet == 'n':\n",
    "        print(\"You must have been born in \", 2019 - int(age))"
   ]
  },
  {
   "cell_type": "code",
   "execution_count": null,
   "metadata": {},
   "outputs": [],
   "source": [
    "if age > 21:\n",
    "    print(\"Cheers! 🍺\")\n",
    "else:\n",
    "    print(\"Cheers! 🥤\")"
   ]
  },
  {
   "cell_type": "markdown",
   "metadata": {},
   "source": [
    "***\n",
    "### Blackjack Lab Time\n",
    "\n",
    "Blackjack is a card game where the goal is to get 21 points without going over. Cards 2-10 are worth their face value; Jacks, Queens, and Kings are worth 10, and an Ace is worth 11. A player is dealt two cards and then they can say \"hit\" to get another card in hopes of getting closer to a score of 21, or \"stand\" to pass on getting another card in hopes of avoiding going over 21. \n",
    "\n",
    "Write a program for a very indecisive Blackjack player to decide for them whether to \"hit\" or \"stand.\" Take it one step at a time. It's up to you if you'd like to use one or more code cells.\n",
    "\n",
    "**1)** Prompt a user to enter the values of each of their two cards.\n",
    "\n",
    "**2)** Use conditional statements to confirm the user entered a value of 1-11 for each card.\n",
    "\n",
    "**3)** If the user entered valid card values, use more conditional statements to decide whether to \"hit\" or \"stand\" – or maybe you want to \"split\" which means getting two more cards and trying to get two Blackjacks (21s). An example would be: if the two cards total is 21, definitely \"stand\" (maybe even `print(\"blackjack!!\")` for fun?), if the total is greater than 17 or so, also \"stand\", maybe \"split\" if the user was dealt two Aces, and otherwise \"hit\". \n",
    "\n",
    "**4)** In this game, each player's cards are dealt one face down and the next face up. Edit your code so far to also ask the user for the value of the face-up card their opponent was dealt. Does this change our decision of whether to get another card or not? Discuss strategy and implementation with your group."
   ]
  },
  {
   "cell_type": "code",
   "execution_count": null,
   "metadata": {},
   "outputs": [],
   "source": [
    "..."
   ]
  }
 ],
 "metadata": {
  "kernelspec": {
   "display_name": "Python 3",
   "language": "python",
   "name": "python3"
  },
  "language_info": {
   "codemirror_mode": {
    "name": "ipython",
    "version": 3
   },
   "file_extension": ".py",
   "mimetype": "text/x-python",
   "name": "python",
   "nbconvert_exporter": "python",
   "pygments_lexer": "ipython3",
   "version": "3.6.8"
  }
 },
 "nbformat": 4,
 "nbformat_minor": 2
}
