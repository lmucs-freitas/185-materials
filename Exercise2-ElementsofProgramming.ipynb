{
 "cells": [
  {
   "cell_type": "markdown",
   "metadata": {},
   "source": [
    "## Exercise 2\n",
    "**Due Wednesday, September 16 by midnight**\n",
    "\n",
    "***\n",
    "### More statements and expressions\n",
    "\n",
    "The time _module_ provides a function, also named time, that returns the current **Greenwich Mean Time** in seconds since “the epoch”, which is an arbitrary time used as a reference point. On UNIX systems, the epoch is 1 January 1970.\n",
    "\n",
    "Write a program that gets the current time and converts it to a time of day in hours, minutes, and seconds, in **Pacific Time**, plus the number of days since the epoch. I highly recommend you solve the math and logic for this problem on paper before trying to program it.\n",
    "\n",
    "Break this problem into several tasks and consider using a new code cell for each of these tasks. *Do not use other functions in the time module–practice using statements and expressions.*"
   ]
  },
  {
   "cell_type": "code",
   "execution_count": null,
   "metadata": {},
   "outputs": [],
   "source": [
    "# run this cell first\n",
    "import time\n",
    "time.time()"
   ]
  },
  {
   "cell_type": "code",
   "execution_count": null,
   "metadata": {},
   "outputs": [],
   "source": [
    "..."
   ]
  },
  {
   "cell_type": "markdown",
   "metadata": {},
   "source": [
    "***\n",
    "## Conditionals and User Input\n",
    "\n",
    "Accompanying text for this exercise is [Composing Programs 1.5.4](http://composingprograms.com/pages/15-control.html#conditional-statements) and [Think Python Ch 5.1-5.7](http://greenteapress.com/thinkpython2/html/thinkpython2006.html)."
   ]
  },
  {
   "cell_type": "markdown",
   "metadata": {},
   "source": [
    "## Using conditional statements to validate user input\n",
    "\n",
    "1) Ask the user their age and save the input as an integer to a variable name."
   ]
  },
  {
   "cell_type": "code",
   "execution_count": null,
   "metadata": {},
   "outputs": [],
   "source": [
    "..."
   ]
  },
  {
   "cell_type": "markdown",
   "metadata": {},
   "source": [
    "2) The oldest person in recorded history lived to be 122. It's debatable what level of fine-motor skills are needed to operate a keyboard, but let's say at least those of a 3 year-old. If a user enters an age of less than 3 or greater than 122, respond with a question and opportunity to re-enter an age. If the user enters a reasonable age between 3 and 122, respond with a message, e.g., \"That seems like a good age to be.\""
   ]
  },
  {
   "cell_type": "code",
   "execution_count": null,
   "metadata": {},
   "outputs": [],
   "source": [
    "..."
   ]
  },
  {
   "cell_type": "markdown",
   "metadata": {},
   "source": [
    "*Optional bonus challenges...* \n",
    "\n",
    "3a) Copy and paste your code below. Adapt it to allow the user to enter a decimal number as their age when prompted. Like the `int()` function that converts a string that looks like an int to an int, there are similar functions to convert a string to a float, or an int or float to a string."
   ]
  },
  {
   "cell_type": "code",
   "execution_count": null,
   "metadata": {},
   "outputs": [],
   "source": [
    "..."
   ]
  },
  {
   "cell_type": "markdown",
   "metadata": {},
   "source": [
    "3b) Read [The Python Tutorial, section 8.3](https://docs.python.org/3/tutorial/errors.html#handling-exceptions) and then see if you can handle user input that is not a number without the program causing an error. "
   ]
  },
  {
   "cell_type": "code",
   "execution_count": null,
   "metadata": {},
   "outputs": [],
   "source": [
    "..."
   ]
  }
 ],
 "metadata": {
  "kernelspec": {
   "display_name": "Python 3",
   "language": "python",
   "name": "python3"
  },
  "language_info": {
   "codemirror_mode": {
    "name": "ipython",
    "version": 3
   },
   "file_extension": ".py",
   "mimetype": "text/x-python",
   "name": "python",
   "nbconvert_exporter": "python",
   "pygments_lexer": "ipython3",
   "version": "3.6.8"
  }
 },
 "nbformat": 4,
 "nbformat_minor": 2
}
