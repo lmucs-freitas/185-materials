{
 "cells": [
  {
   "cell_type": "markdown",
   "metadata": {},
   "source": [
    "# Python Impact Calculator\n",
    "\n",
    "## Background\n",
    "![Almond Farm](https://external-content.duckduckgo.com/iu/?u=http%3A%2F%2Fwww.slate.com%2Fcontent%2Fdam%2Fslate%2Farticles%2Ftechnology%2Ffuture_tense%2F2014%2F05%2F140513_FUT_row.jpg.CROP.original-original.jpg&f=1&nofb=1)\n",
    "\n",
    "We all know our environment is being rapidly degraded due to human activity. It can be overwhelming and confusing to try to optimize our own day-to-day habits to be more environmentally responsible. In California, we face droughts. How much does it matter if people take shorter showers compared cutting back on other water-intensive consumptions, such as almonds? Let us investigate.\n",
    "\n",
    "## Your Task\n",
    "\n",
    "For this project, you'll write a Python program to do unit conversion—to provide the translation of a quantity specified by a certain amount in one source unit and a destination unit. We *convert from* the source unit and *convert to* the destination unit. Often this implies converting measurements like miles to kilometers or cups to liters. To make things more interesting, the units for this assignment will be measurements of activities with some environmental impact, e.g., minutes of showering as a unit for water usage. The calculations required are the same.\n",
    "\n",
    "In other words, your program should be able to answer questions along the lines of: \"How much water is involved in a 10-minute shower compared with almond milk production?\" (answer: \"10 minutes of showering involves the same amount of water as 5.04 cups of almond milk\") In this example, the unit conversion is _minutes of showering_ to _cups of almond milk_.\n",
    "\n",
    "Use the `ipywidgets` below for input. The numeric input box constrains the user input for the amount to convert to be in the form of a float, and the dropdown menus should be populated with your options for a source unit (activities) to convert from, and a destination unit to convert to (same activities). **You will need to choose two categories in terms of environmental impact, e.g., water usage, energy usage, CO$_{2}$ emissions, volume of waste, etc. and 3 or more corresponding activities as units for each category.**\n",
    "\n",
    "## Requirements\n",
    "\n",
    "- 1) **Welcome text for your program** In a markdown cell above the provided widgets: add a friendly welcome message, instructions, and a brief background paragraph on each of your chosen categories and activities. This should include a list of the supported categories and units within that category, as well as a heads up that your program cannot convert between categories.\n",
    "\n",
    "- 2) Without your clever intervention, the input widets will allow `convertFrom.value` and `convertTo.value` to be from mismatching categories (e.g., convert water usage to CO$_{2}$ emissions). Your program must **check if the categories match** if so, great, your program can move on with its calculations. Otherwise, display a **friendly**, helpful message to the user with instructions on how to try again. _Hint:_ Separate your concerns.\n",
    "\n",
    "    - `convertFrom.value` and `convertTo.value` are the variable names assigned to the values from the input widgets. They are only evaluated when the code cell is executed initially, not while the cell is running. You may include instructions in your message to the user to gracefully exit (i.e., not by pressing stop), double-check that their units match, and press the `Calculate` button again.\n",
    "    - The `Calculate` button simply calls the `convert` function.\n",
    "    - Your program should _not_ result in any errors or require the user to run or stop any code cells. You may assume the code cells defining functions and data have been executed by the time a user interacts with your program.\n",
    "\n",
    "- 3) Write your program to **calculate the unit conversion**. \n",
    "    - You will need to populated the dropdown menu widgets with your chosen activities for each category. In the first code cell, `convertFrom = ...` and `convertFrom = ...` create these dropdown menus. They each have a property called `options = []`. Populate the options list with strings of a few words describing your activities. _Hint: These strings can be used as keys later..._\n",
    "    - To get the values of the input widgets to use in your code, you can refer to the variable names `value.value`, `convertFrom.value`, and `convertTo.value` because the widgets are named value, convertFrom, and convertTo respectively and they have a property called value that is updated each time a user interacts with that widget. Again, the value is update in real time, but a code cell that is currently running while the widget is updated will not register the update. \n",
    "    - I highly recommend designing a game plan for how you will write your code before you start programming. See Potential Approaches below for more advice.\n",
    "\n",
    "## How to find the conversion values\n",
    "\n",
    "First you will need to decide on a category for comparison, e.g., water usage. Choose 3 or more corresponding activities, e.g., taking a shower, producing almond milk, etc. Then choose a unit of measurement to use as a standard unit for comparing the activities. Going along with our water usage example, let's say gallons. Next you would do some research to determine how many gallons is involved with each of your activities and a corresponding unit that makes sense for each of those. Let's say we want to compare water used per minutes of showering to cups of almond milk. In this example, you would find sources online indicating how many gallons of water it takes to run an average shower for one minute, how many gallons of water it takes to produce a cup of almond milk, and so on for each of your activities. List your sources and reference them in your introductory text, for example: growing almonds requires a lot of water [1].\n",
    "\n",
    "Feel free to get this data any way you wish. You can find articles online to get estimates for how many source units are in a destination unit and build structures into your program to store these answers. If you find a variety of conflicting numbers, choose the one that seems most reliable to you or calculate an average. Either way, include links to all of your sources at the end of the notebook.\n",
    "\n",
    "## Potential Approaches\n",
    "\n",
    "How should you store all of the multiplying factors between activities? There's the hard way and the easy way to think about it. The particular Python data type you should use is something you should consider on your own.\n",
    "\n",
    "### The Hard Way\n",
    "\n",
    "The hard way is to build an internal two-dimensional table structure of the conversion of every unit to every other unit for every category. This is really painful. Imagine how many translators the United Nations would need if they had 1,000 people speaking different languages and they used this model...a million people!\n",
    "\n",
    "### The Easy Way\n",
    "\n",
    "The easy way is to find a common, base unit (e.g., 1 gallon for water usage) and then store the constant (e.g., 2.1 for minutes of showering based on the average flow rate) used to convert from the base unit to that unit. To convert from two units in the same category (neither of which are the base unit), you simply convert from your convertFrom unit to the base unit, then from that to the convertTo unit. Using the previous analogy you'd only need to hire 1,000 translators at the UN – as long as each could translate to and from their language to a common language, like one of the click languages.\n",
    "\n",
    "### Checklist\n",
    "\n",
    "Make sure your program accounts for all of the following to get full credit.\n",
    "\n",
    "- Use of functions—your program must be broken down into one or more functions—it cannot be one big long script.\n",
    "    - NOTE: One of these functions MUST be named `convert` and use print statements to display results. Otherwise the `Calculate` button will give you an error.\n",
    "- Each function has a docstring that summarizes its purpose and provides a description of its inputs and outputs.\n",
    "- All functions and variables have meaningful names.\n",
    "- Do not use excessive `if` statements where you could leverage a dictionary.\n",
    "- Preserved output showing the program produces correct conversions among all the units of eacy category, i.e., press `Calculate` multiple times with different input values and don't restart the kernel before saving and submitting your notebook.\n",
    "- **All of the features listed in the Requirements section above.**"
   ]
  },
  {
   "cell_type": "code",
   "execution_count": null,
   "metadata": {
    "scrolled": true
   },
   "outputs": [],
   "source": [
    "# First, run this cell to set up input widgets\n",
    "# There won't be any output yet\n",
    "\n",
    "import ipywidgets as widgets\n",
    "\n",
    "value = widgets.FloatText(\n",
    "    value=10.0,\n",
    "    description='',\n",
    "    disabled=False\n",
    ")\n",
    "\n",
    "convertFrom = widgets.Dropdown(\n",
    "    options=[], # list of your activities as strings\n",
    "    value='', # one of your activities to be the default option\n",
    "    description='',\n",
    "    disabled=False,\n",
    ")\n",
    "\n",
    "convertTo = widgets.Dropdown(\n",
    "    options=[], # list of your activities as strings\n",
    "    value='', # one of your activities to be the default option\n",
    "    description='compared to',\n",
    "    disabled=False,\n",
    ")\n",
    "\n",
    "button = widgets.Button(\n",
    "    description='Calculate',\n",
    "    disabled=False,\n",
    "    button_style='info', # 'success', 'info', 'warning', 'danger' or ''\n",
    "    tooltip='',\n",
    "    icon=\"\" # (FontAwesome names without the `fa-` prefix)\n",
    ")\n",
    "\n",
    "def call_convert(_):\n",
    "    convert(value.value, convertFrom.value, convertTo.value)\n",
    "    \n",
    "button.on_click(call_convert)"
   ]
  },
  {
   "cell_type": "markdown",
   "metadata": {},
   "source": [
    "[Replace this text with your welcome, instructions, and background information]"
   ]
  },
  {
   "cell_type": "code",
   "execution_count": null,
   "metadata": {},
   "outputs": [],
   "source": [
    "# Display the input widgets we defined above (no need to edit)\n",
    "items = [value, convertFrom, convertTo]\n",
    "left_box = widgets.VBox([items[0], items[2]])\n",
    "right_box = widgets.VBox([items[1], button])\n",
    "widgets.HBox([left_box, right_box])"
   ]
  },
  {
   "cell_type": "code",
   "execution_count": null,
   "metadata": {},
   "outputs": [],
   "source": [
    "# Conversion data\n",
    "..."
   ]
  },
  {
   "cell_type": "code",
   "execution_count": null,
   "metadata": {},
   "outputs": [],
   "source": [
    "# Conversion function\n",
    "def convert(val, start, end):\n",
    "    ..."
   ]
  },
  {
   "cell_type": "code",
   "execution_count": null,
   "metadata": {},
   "outputs": [],
   "source": [
    "# Any other code you need\n",
    "..."
   ]
  },
  {
   "cell_type": "markdown",
   "metadata": {},
   "source": [
    "Sources:\n",
    "\n",
    "1. [Almond milk: quite good for you – very bad for the planet](https://www.theguardian.com/lifeandstyle/shortcuts/2015/oct/21/almond-milk-quite-good-for-you-very-bad-for-the-planet), _The Guardian_\n"
   ]
  }
 ],
 "metadata": {
  "kernelspec": {
   "display_name": "Python 3",
   "language": "python",
   "name": "python3"
  },
  "language_info": {
   "codemirror_mode": {
    "name": "ipython",
    "version": 3
   },
   "file_extension": ".py",
   "mimetype": "text/x-python",
   "name": "python",
   "nbconvert_exporter": "python",
   "pygments_lexer": "ipython3",
   "version": "3.6.8"
  }
 },
 "nbformat": 4,
 "nbformat_minor": 2
}
