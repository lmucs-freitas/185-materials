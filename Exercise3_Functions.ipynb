{
 "cells": [
  {
   "cell_type": "markdown",
   "metadata": {},
   "source": [
    "# Strugs to `def func():`\n",
    "\n",
    "The corresponding textbook chapters are Think Python [Chapter 3](http://greenteapress.com/thinkpython2/html/thinkpython2004.html) and [Chapter 4](http://greenteapress.com/thinkpython2/html/thinkpython2005.html) and optionally [Composing Programs 1.3](http://composingprograms.com/pages/13-defining-new-functions.html) [-1.4](http://composingprograms.com/pages/14-designing-functions.html)\n",
    "\n",
    "For reference, all function definitions have the following structure:\n",
    "\n",
    "`def <name>(<arguments>):\n",
    "    <docstring>\n",
    "    <statements>`\n",
    "    \n",
    "Everything between `<>` is meant to be replaced by something. Arguments are optional and used as needed, the name and statements are required. The docstring is technically optional, but _real functions have documentation_ and going forward your functions should have docstrings unless they are very very simple (e.g. `print_twice()` would not require documentation).\n",
    "\n",
    "## Drawing with Turtles\n",
    "\n",
    "For this exercise, please read _Think Python_ [Chapter 4](http://greenteapress.com/thinkpython2/html/thinkpython2005.html) and complete the first three exercises at the end of the chapter, copied here for convenience. \n",
    "\n",
    "Because _Think Python_ assumes we're running Python on our own computers–rather than the wonderful world of JupyterHub–not all of the examples will translate perfectly. Here are a few differences to note with the Jupyter environment. Instead of the `turtle` module, we'll install and use `ipyturtle`. Instead of the two-letter methods in Chapter 4 such as `fd()` and `lt()` for moving the turtle around the drawing canvas forward and left, `ipyturtle` uses the whole words as its function names: `forward()` and `left()`. `ipyturtle` does not have a `mainloop()`. Here are some example function calls you can use, assuming `t=Turtle()`...\n",
    "\n",
    "- `t.back(40)`\n",
    "- `t.forward(100)`\n",
    "- `t.right(90)`\n",
    "- `t.left(45)`\n"
   ]
  },
  {
   "cell_type": "markdown",
   "metadata": {},
   "source": [
    "First we need to install the module `ipyturtle`. Run the cell below and then, only when the cell is finished running, go to **Kernel** --> **Restart & clear output**. Remember you can tell the code cell is finished running when the * in the `In [*]` next to the cell becomes a number. This could take up to a few minutes. You only need to run this cell once (ever) and then you'll be able to import Turtle in any notebook on your JupyterHub account. "
   ]
  },
  {
   "cell_type": "code",
   "execution_count": null,
   "metadata": {},
   "outputs": [],
   "source": [
    "import sys\n",
    "!{sys.executable} -m pip install ipyturtle"
   ]
  },
  {
   "cell_type": "code",
   "execution_count": null,
   "metadata": {},
   "outputs": [],
   "source": [
    "from ipyturtle import Turtle"
   ]
  },
  {
   "cell_type": "markdown",
   "metadata": {},
   "source": [
    "You must create your drawing canvas in a separate cell from your drawing instructions. I.e., don't add any code to these cells and don't create new Turtles below, only use one of these."
   ]
  },
  {
   "cell_type": "code",
   "execution_count": null,
   "metadata": {},
   "outputs": [],
   "source": [
    "# drawing canvas option 1: fixed, default width and height\n",
    "bob = Turtle()\n",
    "#bob # comment this line and rerun cell to hide drawing canvas"
   ]
  },
  {
   "cell_type": "code",
   "execution_count": null,
   "metadata": {},
   "outputs": [],
   "source": [
    "# option 2: not fixed\n",
    "bob = Turtle(fixed=False)\n",
    "bob"
   ]
  },
  {
   "cell_type": "markdown",
   "metadata": {},
   "source": [
    "### Part 1\n",
    "Write a **function** called square that takes an argument named t, which is a turtle. It should use the turtle to draw a square.\n",
    "\n",
    "Write a **function call** that passes bob as an argument to square, and then run the program again."
   ]
  },
  {
   "cell_type": "code",
   "execution_count": null,
   "metadata": {},
   "outputs": [],
   "source": [
    "..."
   ]
  },
  {
   "cell_type": "markdown",
   "metadata": {},
   "source": [
    "### Part 2\n",
    "\n",
    "Copy your square function to the cell below. Add another parameter, named length, to square. Modify the body so length of the sides is length, and then modify the function call to provide a second argument. Run the program again. Test your program with a range of values for length."
   ]
  },
  {
   "cell_type": "code",
   "execution_count": null,
   "metadata": {},
   "outputs": [],
   "source": [
    "..."
   ]
  },
  {
   "cell_type": "markdown",
   "metadata": {},
   "source": [
    "### Part 3\n",
    "\n",
    "Copy your square function to the cell below and change the name to polygon. Add another parameter named n and modify the body so it draws an n-sided regular polygon. Hint: The exterior angles of an n-sided regular polygon are 360/n degrees. "
   ]
  },
  {
   "cell_type": "code",
   "execution_count": null,
   "metadata": {},
   "outputs": [],
   "source": [
    "..."
   ]
  },
  {
   "cell_type": "markdown",
   "metadata": {},
   "source": [
    "### Optional\n",
    "\n",
    "What else can you draw with a turtle?"
   ]
  },
  {
   "cell_type": "code",
   "execution_count": null,
   "metadata": {},
   "outputs": [],
   "source": [
    "..."
   ]
  }
 ],
 "metadata": {
  "kernelspec": {
   "display_name": "Python 3",
   "language": "python",
   "name": "python3"
  },
  "language_info": {
   "codemirror_mode": {
    "name": "ipython",
    "version": 3
   },
   "file_extension": ".py",
   "mimetype": "text/x-python",
   "name": "python",
   "nbconvert_exporter": "python",
   "pygments_lexer": "ipython3",
   "version": "3.6.8"
  }
 },
 "nbformat": 4,
 "nbformat_minor": 2
}
