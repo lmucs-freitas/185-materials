{
 "cells": [
  {
   "cell_type": "markdown",
   "metadata": {},
   "source": [
    "# PyCats\n",
    "\n",
    "**Part 1:**\n",
    "Write a general purpose Cat class. Anything in this class should be generalizable to all cats."
   ]
  },
  {
   "cell_type": "code",
   "execution_count": null,
   "metadata": {},
   "outputs": [],
   "source": []
  },
  {
   "cell_type": "markdown",
   "metadata": {},
   "source": [
    "**Part 2:**\n",
    "\n",
    "Next, visit [PetFinder's list of cat breeds](https://www.petfinder.com/cat-breeds/), and model 3 breeds of your choice as Python classes. Each cat breed class should en-*tail* at least 2 attributes, and 2 methods (either overriden or new). The attributes and methods can be simple or complex or silly, as long as they have *some* relation to the descriptions of that breed on PetFinder. The methods can be the same as long as the implementation is specific to that breed. Think about what the cats _do_ (what _methods_ the classes will have) and how that \"behavior\" may affect or be affected by their attribute values. The purpose of this is to reinforce what is an attribute and what is a behavior/method."
   ]
  },
  {
   "cell_type": "code",
   "execution_count": null,
   "metadata": {},
   "outputs": [],
   "source": []
  },
  {
   "cell_type": "markdown",
   "metadata": {},
   "source": [
    "**Part 3:**\n",
    "\n",
    "Create a few instances of each cat breed class, such that we end up with at least 4 cat instances... that's not too many right? Call a few of their methods. You may want to use multiple code cells."
   ]
  },
  {
   "cell_type": "code",
   "execution_count": null,
   "metadata": {},
   "outputs": [],
   "source": []
  },
  {
   "cell_type": "markdown",
   "metadata": {},
   "source": [
    "**Optional Challenge:**\n",
    "Write a function called getKittens that takes 2 Cat objects of any breed as arguments and returns a Cat with randomly chosen attributes from each of the 2 Cat objects. Make reasonable assumptions about the available methods and attributes (i.e., based on your Cat *interface*). You may want to add methods and/or attributes to your Cat class to pull this off. Test your function a few times to see what you get."
   ]
  },
  {
   "cell_type": "code",
   "execution_count": null,
   "metadata": {},
   "outputs": [],
   "source": []
  },
  {
   "cell_type": "markdown",
   "metadata": {},
   "source": [
    "![kittens](https://www.employeebenefits.co.uk/content/uploads/2015/11/two-kittens.jpg)"
   ]
  }
 ],
 "metadata": {
  "kernelspec": {
   "display_name": "Python 3",
   "language": "python",
   "name": "python3"
  },
  "language_info": {
   "codemirror_mode": {
    "name": "ipython",
    "version": 3
   },
   "file_extension": ".py",
   "mimetype": "text/x-python",
   "name": "python",
   "nbconvert_exporter": "python",
   "pygments_lexer": "ipython3",
   "version": "3.6.8"
  }
 },
 "nbformat": 4,
 "nbformat_minor": 2
}
