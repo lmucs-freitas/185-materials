{
 "cells": [
  {
   "cell_type": "markdown",
   "metadata": {},
   "source": [
    "# Exercise 4\n",
    "\n",
    "**Due October 8 by midnight California time**\n",
    "\n",
    "The goal for this exercise is to learn some new tricks with strings and then develop a Pirate Chat Bot that responds to the user based on a a few simple rules. \n",
    "\n",
    "Below are a bunch of examples of how you might use string methods to parse input and construct responses.\n",
    "\n",
    "*Note on co-development* If you work in teams, please follow the _pair programming model_. That is, whoever is typing does not decide what to type, they're just \"driving.\" The navigators suggest what to type. Naturally, the driver can opt not to type something if they feel it is incorrect or they may have another idea. In that case, the pair discusses what to do and decides together. \n",
    "\n",
    "Onward!\n",
    "\n",
    "## Fun with Strings\n",
    "\n",
    "Here are some string methods we haven't seen (much) yet:\n",
    "\n",
    "- `split(' ')`\n",
    "- `replace(\"Hello\", \"Aloha\")`\n",
    "- `count('e')`\n",
    "- `find(\"H\")`\n",
    "- `index(\"World\")`\n",
    "- `startswith(\"H\")`\n",
    "- `endswith(\"o\")`\n",
    "- `upper()`\n",
    "- `lower()`\n",
    "- `title()`\n",
    "- `capitalize()`\n",
    "- `swapcase()`\n",
    "- `format(...)`\n",
    "\n",
    "and [more](https://www.w3schools.com/python/python_ref_string.asp)!"
   ]
  },
  {
   "cell_type": "code",
   "execution_count": null,
   "metadata": {},
   "outputs": [],
   "source": [
    "greeting = \"Hello World\"\n",
    "\n",
    "print(greeting.split(' '))\n",
    "print(greeting.replace(\"Hello\", \"Aloha\"))\n",
    "print(greeting.count('o'))\n",
    "print(greeting.find(\"W\"))\n",
    "print(greeting.index(\"World\"))\n",
    "print(greeting) # original string is unchanged"
   ]
  },
  {
   "cell_type": "code",
   "execution_count": null,
   "metadata": {},
   "outputs": [],
   "source": [
    "greeting = \"greetings {}\"\n",
    "print(greeting.format(\"earthlings\"))"
   ]
  },
  {
   "cell_type": "code",
   "execution_count": null,
   "metadata": {},
   "outputs": [],
   "source": [
    "# Hold up. Spend some time with this code cell.\n",
    "# Run it a few times and see if you can make sense of its behavior\n",
    "import random\n",
    "\n",
    "greetingForm = \"{} {}!\"\n",
    "greetings = [\"greetings\", \"hello\", \"aloha\", \"welcome\"]\n",
    "friends = [\"earthlings\", \"friends\", \"lions\", \"partners\"]\n",
    "\n",
    "print(greetingForm.format(greetings[random.randint(0,3)], friends[random.randint(0,3)]))"
   ]
  },
  {
   "cell_type": "markdown",
   "metadata": {},
   "source": [
    "***\n",
    "\n",
    "Refresher on slicing"
   ]
  },
  {
   "cell_type": "code",
   "execution_count": null,
   "metadata": {},
   "outputs": [],
   "source": [
    "word = \"words and stuff\"\n",
    "\n",
    "print(word[0])      # one char of the word\n",
    "print(word[0:1])    # one char of the word (same as above)\n",
    "print(word[0:3])    # the first three char\n",
    "print(word[:3])     # the first three char\n",
    "print(word[-3:])    # the last three char\n",
    "print(word[3:])     # all but the three first char\n",
    "print(word[:-3])    # all but the three last character\n",
    "print(word[:])      # a copy of the whole word"
   ]
  },
  {
   "cell_type": "markdown",
   "metadata": {},
   "source": [
    "***\n",
    "\n",
    "## Simple Pirate Chat Bot\n",
    "\n",
    "- Pirate Chat Bot should begin with a greeting: \"Ahoy!\"\n",
    "- User should be able to say/input whatever they want, to which Pirate Chat Bot should almost always respond: \"Aaarrr!\"\n",
    "- *Unless* the user mentions \"treasure\", \"booty\", or \"guacamole\", in which case the Pirate Chat Bot should respond with a more animated response phrase of your choice. For inspiration, check out www.pirateglossary.com \n",
    "- Create an exit phrase, such as \"goodbye\". When the user enters the exit phrase, your Pirate Chat Bot program should respond and then terminate.\n",
    "- Your solution should involve **a loop** and **efficient use of conditional statements**. You do not need to write a function."
   ]
  },
  {
   "cell_type": "code",
   "execution_count": null,
   "metadata": {},
   "outputs": [],
   "source": [
    "..."
   ]
  },
  {
   "cell_type": "markdown",
   "metadata": {},
   "source": [
    "## Pirate Translator\n",
    "\n",
    "This program should have a new function called translate that accepts a string and returns a new, translated string.\n",
    "\n",
    "- First create a Python dictionary of some english to pirate phrases. Find [translations here](http://nifty.stanford.edu/2004/TalkLikeAPirate/pirate1.html).\n",
    "- If the argument is an english phrase that has a pirate jargon equivalent, respond with the translation. For example, user: \"where is my cat?\" translator: \"whar be me cat?\" Any parts of the original input without an entry in the dictionary should remain as is in the returned string. If the phrase has no translatable subphrases, return the original argument."
   ]
  },
  {
   "cell_type": "code",
   "execution_count": null,
   "metadata": {},
   "outputs": [],
   "source": [
    "eng2pir = {}\n",
    "\n",
    "def translate(phrase):\n",
    "    ..."
   ]
  },
  {
   "cell_type": "code",
   "execution_count": null,
   "metadata": {},
   "outputs": [],
   "source": [
    "translate(\"where is my cat?\")"
   ]
  },
  {
   "cell_type": "markdown",
   "metadata": {},
   "source": [
    "## Pirate translation interfaces\n",
    "\n",
    "Critique these two pirate translator user interfaces. How would you design an improved user experience? Use the markdown cell below to describe your answers. Come up with at least 3 comments for each translator.\n",
    "- https://www.syddware.com/cgi-bin/pirate.pl\n",
    "- http://nifty.stanford.edu/2004/TalkLikeAPirate/pirate1.html\n",
    "\n",
    "Double click on the cell below to edit it."
   ]
  },
  {
   "cell_type": "markdown",
   "metadata": {},
   "source": [
    "*Pirate speak*\n",
    "1. \n",
    "2. \n",
    "3. \n",
    "\n",
    "\n",
    "*Cap'n Redpen's Pirate Translator*\n",
    "1. \n",
    "2. \n",
    "3. \n"
   ]
  }
 ],
 "metadata": {
  "kernelspec": {
   "display_name": "Python 3",
   "language": "python",
   "name": "python3"
  },
  "language_info": {
   "codemirror_mode": {
    "name": "ipython",
    "version": 3
   },
   "file_extension": ".py",
   "mimetype": "text/x-python",
   "name": "python",
   "nbconvert_exporter": "python",
   "pygments_lexer": "ipython3",
   "version": "3.6.8"
  }
 },
 "nbformat": 4,
 "nbformat_minor": 2
}
