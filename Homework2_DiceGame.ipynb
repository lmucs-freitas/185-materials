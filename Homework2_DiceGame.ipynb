{
 "cells": [
  {
   "cell_type": "markdown",
   "metadata": {
    "extensions": {
     "jupyter_dashboards": {
      "version": 1,
      "views": {
       "grid_default": {},
       "report_default": {}
      }
     }
    }
   },
   "source": [
    "# Python Dice Game\n",
    "\n",
    "**Due Nov 13** by midnight CA time. This is an individual assignment and you must acknowledge any help received. To submit, download your `ipynb` file and upload it to CodePost.\n",
    "\n",
    "For this assignment, you will employ object-oriented programming to simulate a dice-based game.\n",
    "\n",
    "Here are the rules for a simple game called [Pig](https://en.wikipedia.org/wiki/Pig_(dice_game)), or you are welcome to implement any other dice-based game instead such as [10,000](https://en.wikipedia.org/wiki/Dice_10000) or even [Zombie Dice](https://en.wikipedia.org/wiki/Zombie_Dice)."
   ]
  },
  {
   "cell_type": "markdown",
   "metadata": {
    "extensions": {
     "jupyter_dashboards": {
      "version": 1,
      "views": {
       "grid_default": {},
       "report_default": {}
      }
     }
    }
   },
   "source": [
    "## Part One: Strategize\n",
    "\n",
    "Read the rules of your game carefully. On paper or a whiteboard, determine what classes and perhaps subclasses you need to create your game. What values and bahaviors belong to these classes? Think about the game step by step, what is happening and what information is needed? You should have at least a `Dice` class, a `Game` class named after your game, and a `Player` class.\n",
    "\n",
    "For guidance, check out [Think Python 18.8 Class Diagrams](http://greenteapress.com/thinkpython2/html/thinkpython2019.html). It may be strategic to spend **at least half of your time** on this assignment planning before moving on to write the code for these classes.\n",
    "\n",
    "## Part Two: Implement\n",
    "\n",
    "A `Dice` class is provided for you in the cell below. You may adapt the `Dice` class definition or use it as is. Write the rest of your class definitions from part one. \n",
    "\n",
    "- Your `Player` class should model behaviors of taking a turn and making choices in the game, which can be random, strategic, or some default. You can choose what required or optional arguments your own `Player` class will have as long as they make sense.\n",
    "\n",
    "- Write at least one `Player` subclass that determines game choices based on a different strategy than your default player class. Perhaps your player subclass could be an `InteractiveMode` where user input instead of a pre-defined strategy is used to determine whether or not to roll again.\n",
    "\n",
    "\n",
    "- Your `Game` class should enforce rules of the game, keep score, and facilitate players taking turns. Instanciating a new game should at least require `Player` objects, _who_ will play the game. `Game` must accept 2 players or more. \n",
    "\n",
    "For example...\n",
    "\n",
    "    p0 = Player(\"Leslie\")\n",
    "    p1 = GreedyPlayer(\"Tom\")\n",
    "    p2 = RandomPlayer(\"Ann\")\n",
    "    p3 = InteractiveMode(\"Ron\")\n",
    "    \n",
    "    g = Game(p0, p1, p2, p3)\n",
    "    g.play()\n",
    "    \n",
    "or... \n",
    "\n",
    "    g2 = Game(p0,p3)\n",
    "    g2.play()\n",
    "---\n",
    "Your class definitions should demonstrate:\n",
    "\n",
    "- separation of concerns, \n",
    "- proper use of naming conventions, \n",
    "- proper use of inheritence,\n",
    "- proper use of class and object attributes, \n",
    "- proper use of arguments including `self`, \n",
    "- well-named functions and variables and/or clear, concise documentation (i.e., your code should be easy to read), \n",
    "- appropriate use of loops and data structures as needed (e.g., lists, dictionaries, tuples)\n",
    "\n",
    "And when you instanciate objects and call the methods of those objects (Part 3) your code should run without errors.\n",
    "\n"
   ]
  },
  {
   "cell_type": "code",
   "execution_count": null,
   "metadata": {
    "extensions": {
     "jupyter_dashboards": {
      "version": 1,
      "views": {
       "grid_default": {},
       "report_default": {}
      }
     }
    }
   },
   "outputs": [],
   "source": [
    "from random import randint\n",
    "\n",
    "class Dice:\n",
    "    faces = {1: \"[ . ]\", 2: \"[ : ]\", 3: \"[: .]\", \n",
    "             4:\"[: :]\", 5:\"[:.:]\", 6:\"[:::]\"}\n",
    "    \n",
    "    def __init__(self, sides=6):\n",
    "        self.sides = sides\n",
    "        self.value = None\n",
    "        \n",
    "    def __str__(self):\n",
    "        if self.value == None:\n",
    "            return \"Ready to roll!\"\n",
    "        \n",
    "        elif self.value > 6:\n",
    "            return \"[ \"+str(self.value)+\" ]\"\n",
    "        \n",
    "        else:\n",
    "            return self.faces[self.value]\n",
    "        \n",
    "    def roll(self):\n",
    "        self.value = randint(1,self.sides)\n",
    "        print(self)"
   ]
  },
  {
   "cell_type": "code",
   "execution_count": null,
   "metadata": {
    "extensions": {
     "jupyter_dashboards": {
      "version": 1,
      "views": {
       "grid_default": {},
       "report_default": {}
      }
     }
    }
   },
   "outputs": [],
   "source": [
    "d = Dice()\n",
    "d.roll()"
   ]
  },
  {
   "cell_type": "code",
   "execution_count": null,
   "metadata": {
    "extensions": {
     "jupyter_dashboards": {
      "version": 1,
      "views": {
       "grid_default": {},
       "report_default": {}
      }
     }
    }
   },
   "outputs": [],
   "source": []
  },
  {
   "cell_type": "code",
   "execution_count": null,
   "metadata": {
    "extensions": {
     "jupyter_dashboards": {
      "version": 1,
      "views": {
       "grid_default": {},
       "report_default": {}
      }
     }
    }
   },
   "outputs": [],
   "source": []
  },
  {
   "cell_type": "code",
   "execution_count": null,
   "metadata": {
    "extensions": {
     "jupyter_dashboards": {
      "version": 1,
      "views": {
       "grid_default": {},
       "report_default": {}
      }
     }
    }
   },
   "outputs": [],
   "source": []
  },
  {
   "cell_type": "markdown",
   "metadata": {
    "extensions": {
     "jupyter_dashboards": {
      "version": 1,
      "views": {
       "grid_default": {},
       "report_default": {}
      }
     }
    }
   },
   "source": [
    "## Part Three: Play\n",
    "\n",
    "Create a new game object, and simulate or play a game. Methods from one of your classes should provide output that shows what is happening at each step. This is partially satisfied by the `roll` function for `Dice`. You should have additional output for showing whose turn it is, the scores after each turn, and who wins when the game is over."
   ]
  },
  {
   "cell_type": "code",
   "execution_count": null,
   "metadata": {
    "extensions": {
     "jupyter_dashboards": {
      "version": 1,
      "views": {
       "grid_default": {},
       "report_default": {}
      }
     }
    }
   },
   "outputs": [],
   "source": []
  },
  {
   "cell_type": "markdown",
   "metadata": {},
   "source": [
    "---\n",
    "\n",
    "_Sources_\n",
    "\n",
    "1. ...\n"
   ]
  }
 ],
 "metadata": {
  "extensions": {
   "jupyter_dashboards": {
    "activeView": "grid_default",
    "version": 1,
    "views": {
     "grid_default": {
      "cellMargin": 10,
      "defaultCellHeight": 20,
      "maxColumns": 12,
      "name": "grid",
      "type": "grid"
     },
     "report_default": {
      "name": "report",
      "type": "report"
     }
    }
   }
  },
  "kernelspec": {
   "display_name": "Python 3",
   "language": "python",
   "name": "python3"
  },
  "language_info": {
   "codemirror_mode": {
    "name": "ipython",
    "version": 3
   },
   "file_extension": ".py",
   "mimetype": "text/x-python",
   "name": "python",
   "nbconvert_exporter": "python",
   "pygments_lexer": "ipython3",
   "version": "3.6.8"
  }
 },
 "nbformat": 4,
 "nbformat_minor": 2
}
